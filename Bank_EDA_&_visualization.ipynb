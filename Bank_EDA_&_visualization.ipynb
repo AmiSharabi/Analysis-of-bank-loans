{
 "cells": [
  {
   "cell_type": "code",
   "execution_count": 1,
   "id": "864f1e64-4fe7-4ff2-b901-ca15b917e17a",
   "metadata": {},
   "outputs": [],
   "source": [
    "import numpy as np\n",
    "import pandas as pd\n",
    "import matplotlib.pyplot as plt\n",
    "import seaborn as sns"
   ]
  },
  {
   "cell_type": "code",
   "execution_count": 2,
   "id": "531a54d3-be9d-4860-87b1-96c061a6d6e3",
   "metadata": {},
   "outputs": [],
   "source": [
    "### change this to the path to folder of file in this format\n",
    "path = \"Ami/Work Exems/bank\""
   ]
  },
  {
   "cell_type": "code",
   "execution_count": 3,
   "id": "40976ab8-80e4-4e44-812e-6aad4860e690",
   "metadata": {},
   "outputs": [
    {
     "data": {
      "text/html": [
       "<div>\n",
       "<style scoped>\n",
       "    .dataframe tbody tr th:only-of-type {\n",
       "        vertical-align: middle;\n",
       "    }\n",
       "\n",
       "    .dataframe tbody tr th {\n",
       "        vertical-align: top;\n",
       "    }\n",
       "\n",
       "    .dataframe thead th {\n",
       "        text-align: right;\n",
       "    }\n",
       "</style>\n",
       "<table border=\"1\" class=\"dataframe\">\n",
       "  <thead>\n",
       "    <tr style=\"text-align: right;\">\n",
       "      <th></th>\n",
       "      <th>ID</th>\n",
       "      <th>Date</th>\n",
       "      <th>Is_Default</th>\n",
       "      <th>Seniority</th>\n",
       "      <th>Region</th>\n",
       "      <th>Loan_Sum</th>\n",
       "      <th>Income</th>\n",
       "      <th>Outcome</th>\n",
       "    </tr>\n",
       "  </thead>\n",
       "  <tbody>\n",
       "    <tr>\n",
       "      <th>0</th>\n",
       "      <td>16</td>\n",
       "      <td>01/05/2015</td>\n",
       "      <td>0</td>\n",
       "      <td>0.37</td>\n",
       "      <td>South</td>\n",
       "      <td>36974</td>\n",
       "      <td>26010</td>\n",
       "      <td>29</td>\n",
       "    </tr>\n",
       "    <tr>\n",
       "      <th>1</th>\n",
       "      <td>40</td>\n",
       "      <td>01/05/2015</td>\n",
       "      <td>0</td>\n",
       "      <td>14.73</td>\n",
       "      <td>Central</td>\n",
       "      <td>20453</td>\n",
       "      <td>25036</td>\n",
       "      <td>4763</td>\n",
       "    </tr>\n",
       "    <tr>\n",
       "      <th>2</th>\n",
       "      <td>34</td>\n",
       "      <td>01/05/2015</td>\n",
       "      <td>0</td>\n",
       "      <td>12.19</td>\n",
       "      <td>North</td>\n",
       "      <td>39215</td>\n",
       "      <td>28832</td>\n",
       "      <td>8590</td>\n",
       "    </tr>\n",
       "    <tr>\n",
       "      <th>3</th>\n",
       "      <td>29</td>\n",
       "      <td>01/05/2015</td>\n",
       "      <td>0</td>\n",
       "      <td>9.45</td>\n",
       "      <td>North</td>\n",
       "      <td>47523</td>\n",
       "      <td>26562</td>\n",
       "      <td>9441</td>\n",
       "    </tr>\n",
       "    <tr>\n",
       "      <th>4</th>\n",
       "      <td>35</td>\n",
       "      <td>01/05/2015</td>\n",
       "      <td>0</td>\n",
       "      <td>18.44</td>\n",
       "      <td>North</td>\n",
       "      <td>12752</td>\n",
       "      <td>20373</td>\n",
       "      <td>571</td>\n",
       "    </tr>\n",
       "  </tbody>\n",
       "</table>\n",
       "</div>"
      ],
      "text/plain": [
       "   ID        Date  Is_Default  Seniority   Region  Loan_Sum  Income  Outcome\n",
       "0  16  01/05/2015           0       0.37    South     36974   26010       29\n",
       "1  40  01/05/2015           0      14.73  Central     20453   25036     4763\n",
       "2  34  01/05/2015           0      12.19    North     39215   28832     8590\n",
       "3  29  01/05/2015           0       9.45    North     47523   26562     9441\n",
       "4  35  01/05/2015           0      18.44    North     12752   20373      571"
      ]
     },
     "execution_count": 3,
     "metadata": {},
     "output_type": "execute_result"
    }
   ],
   "source": [
    "bank = pd.read_csv(f\"{path}/bank_table.csv\")\n",
    "bank.head(5)"
   ]
  },
  {
   "cell_type": "code",
   "execution_count": 4,
   "id": "adf47e37-15d2-4a34-a3e9-b64fb7c4719b",
   "metadata": {
    "tags": []
   },
   "outputs": [
    {
     "data": {
      "text/plain": [
       "Index(['id', 'date', 'is_default', 'seniority', 'region', 'loan_sum', 'income',\n",
       "       'outcome'],\n",
       "      dtype='object')"
      ]
     },
     "execution_count": 4,
     "metadata": {},
     "output_type": "execute_result"
    }
   ],
   "source": [
    "# Rename columns to lower letters\n",
    "bank.columns = bank.columns.str.lower()\n",
    "\n",
    "bank.columns"
   ]
  },
  {
   "cell_type": "code",
   "execution_count": 5,
   "id": "98d895bb-65d6-4828-a6a0-b052de3fb561",
   "metadata": {},
   "outputs": [],
   "source": [
    "#drop columns\n",
    "bank = bank.drop(['date','id'], axis=1)\n"
   ]
  },
  {
   "cell_type": "code",
   "execution_count": 6,
   "id": "f402dcaf-debf-4dda-867c-c4f0d7038537",
   "metadata": {},
   "outputs": [
    {
     "data": {
      "text/plain": [
       "is_default    0\n",
       "seniority     0\n",
       "region        0\n",
       "loan_sum      0\n",
       "income        0\n",
       "outcome       0\n",
       "dtype: int64"
      ]
     },
     "execution_count": 6,
     "metadata": {},
     "output_type": "execute_result"
    }
   ],
   "source": [
    "#null checking\n",
    "bank.isna().sum()"
   ]
  },
  {
   "cell_type": "code",
   "execution_count": 7,
   "id": "bbcfae6d-3ac0-48f1-bcd3-0a71f74e06e3",
   "metadata": {},
   "outputs": [
    {
     "data": {
      "text/html": [
       "<div>\n",
       "<style scoped>\n",
       "    .dataframe tbody tr th:only-of-type {\n",
       "        vertical-align: middle;\n",
       "    }\n",
       "\n",
       "    .dataframe tbody tr th {\n",
       "        vertical-align: top;\n",
       "    }\n",
       "\n",
       "    .dataframe thead th {\n",
       "        text-align: right;\n",
       "    }\n",
       "</style>\n",
       "<table border=\"1\" class=\"dataframe\">\n",
       "  <thead>\n",
       "    <tr style=\"text-align: right;\">\n",
       "      <th></th>\n",
       "      <th>is_default</th>\n",
       "      <th>seniority</th>\n",
       "      <th>loan_sum</th>\n",
       "      <th>income</th>\n",
       "      <th>outcome</th>\n",
       "    </tr>\n",
       "  </thead>\n",
       "  <tbody>\n",
       "    <tr>\n",
       "      <th>count</th>\n",
       "      <td>40.000000</td>\n",
       "      <td>40.000000</td>\n",
       "      <td>40.000000</td>\n",
       "      <td>40.000000</td>\n",
       "      <td>40.000000</td>\n",
       "    </tr>\n",
       "    <tr>\n",
       "      <th>mean</th>\n",
       "      <td>0.250000</td>\n",
       "      <td>7.805500</td>\n",
       "      <td>16088.000000</td>\n",
       "      <td>25953.800000</td>\n",
       "      <td>10119.850000</td>\n",
       "    </tr>\n",
       "    <tr>\n",
       "      <th>std</th>\n",
       "      <td>0.438529</td>\n",
       "      <td>6.922285</td>\n",
       "      <td>11803.833091</td>\n",
       "      <td>7863.730377</td>\n",
       "      <td>12557.871426</td>\n",
       "    </tr>\n",
       "    <tr>\n",
       "      <th>min</th>\n",
       "      <td>0.000000</td>\n",
       "      <td>0.170000</td>\n",
       "      <td>1967.000000</td>\n",
       "      <td>3865.000000</td>\n",
       "      <td>29.000000</td>\n",
       "    </tr>\n",
       "    <tr>\n",
       "      <th>25%</th>\n",
       "      <td>0.000000</td>\n",
       "      <td>2.127500</td>\n",
       "      <td>6300.750000</td>\n",
       "      <td>23237.500000</td>\n",
       "      <td>3098.500000</td>\n",
       "    </tr>\n",
       "    <tr>\n",
       "      <th>50%</th>\n",
       "      <td>0.000000</td>\n",
       "      <td>5.315000</td>\n",
       "      <td>12197.000000</td>\n",
       "      <td>25305.500000</td>\n",
       "      <td>7061.500000</td>\n",
       "    </tr>\n",
       "    <tr>\n",
       "      <th>75%</th>\n",
       "      <td>0.250000</td>\n",
       "      <td>11.275000</td>\n",
       "      <td>24297.500000</td>\n",
       "      <td>27541.500000</td>\n",
       "      <td>10652.250000</td>\n",
       "    </tr>\n",
       "    <tr>\n",
       "      <th>max</th>\n",
       "      <td>1.000000</td>\n",
       "      <td>28.570000</td>\n",
       "      <td>47523.000000</td>\n",
       "      <td>48330.000000</td>\n",
       "      <td>57661.000000</td>\n",
       "    </tr>\n",
       "  </tbody>\n",
       "</table>\n",
       "</div>"
      ],
      "text/plain": [
       "       is_default  seniority      loan_sum        income       outcome\n",
       "count   40.000000  40.000000     40.000000     40.000000     40.000000\n",
       "mean     0.250000   7.805500  16088.000000  25953.800000  10119.850000\n",
       "std      0.438529   6.922285  11803.833091   7863.730377  12557.871426\n",
       "min      0.000000   0.170000   1967.000000   3865.000000     29.000000\n",
       "25%      0.000000   2.127500   6300.750000  23237.500000   3098.500000\n",
       "50%      0.000000   5.315000  12197.000000  25305.500000   7061.500000\n",
       "75%      0.250000  11.275000  24297.500000  27541.500000  10652.250000\n",
       "max      1.000000  28.570000  47523.000000  48330.000000  57661.000000"
      ]
     },
     "execution_count": 7,
     "metadata": {},
     "output_type": "execute_result"
    }
   ],
   "source": [
    "bank.describe()"
   ]
  },
  {
   "cell_type": "code",
   "execution_count": 8,
   "id": "b380da3e-6608-4cbd-8a85-ca93c6613164",
   "metadata": {},
   "outputs": [
    {
     "data": {
      "text/html": [
       "<div>\n",
       "<style scoped>\n",
       "    .dataframe tbody tr th:only-of-type {\n",
       "        vertical-align: middle;\n",
       "    }\n",
       "\n",
       "    .dataframe tbody tr th {\n",
       "        vertical-align: top;\n",
       "    }\n",
       "\n",
       "    .dataframe thead tr th {\n",
       "        text-align: left;\n",
       "    }\n",
       "\n",
       "    .dataframe thead tr:last-of-type th {\n",
       "        text-align: right;\n",
       "    }\n",
       "</style>\n",
       "<table border=\"1\" class=\"dataframe\">\n",
       "  <thead>\n",
       "    <tr>\n",
       "      <th></th>\n",
       "      <th colspan=\"2\" halign=\"left\">seniority</th>\n",
       "      <th colspan=\"2\" halign=\"left\">loan_sum</th>\n",
       "      <th colspan=\"2\" halign=\"left\">income</th>\n",
       "      <th colspan=\"2\" halign=\"left\">outcome</th>\n",
       "    </tr>\n",
       "    <tr>\n",
       "      <th></th>\n",
       "      <th>mean</th>\n",
       "      <th>median</th>\n",
       "      <th>mean</th>\n",
       "      <th>median</th>\n",
       "      <th>mean</th>\n",
       "      <th>median</th>\n",
       "      <th>mean</th>\n",
       "      <th>median</th>\n",
       "    </tr>\n",
       "    <tr>\n",
       "      <th>is_default</th>\n",
       "      <th></th>\n",
       "      <th></th>\n",
       "      <th></th>\n",
       "      <th></th>\n",
       "      <th></th>\n",
       "      <th></th>\n",
       "      <th></th>\n",
       "      <th></th>\n",
       "    </tr>\n",
       "  </thead>\n",
       "  <tbody>\n",
       "    <tr>\n",
       "      <th>0</th>\n",
       "      <td>8.724333</td>\n",
       "      <td>6.645</td>\n",
       "      <td>19917.9</td>\n",
       "      <td>20012.0</td>\n",
       "      <td>25246.533333</td>\n",
       "      <td>25305.5</td>\n",
       "      <td>6044.333333</td>\n",
       "      <td>6040.5</td>\n",
       "    </tr>\n",
       "    <tr>\n",
       "      <th>1</th>\n",
       "      <td>5.049000</td>\n",
       "      <td>4.480</td>\n",
       "      <td>4598.3</td>\n",
       "      <td>3726.0</td>\n",
       "      <td>28075.600000</td>\n",
       "      <td>26974.0</td>\n",
       "      <td>22346.400000</td>\n",
       "      <td>15976.0</td>\n",
       "    </tr>\n",
       "  </tbody>\n",
       "</table>\n",
       "</div>"
      ],
      "text/plain": [
       "           seniority        loan_sum                 income           \\\n",
       "                mean median     mean   median          mean   median   \n",
       "is_default                                                             \n",
       "0           8.724333  6.645  19917.9  20012.0  25246.533333  25305.5   \n",
       "1           5.049000  4.480   4598.3   3726.0  28075.600000  26974.0   \n",
       "\n",
       "                 outcome           \n",
       "                    mean   median  \n",
       "is_default                         \n",
       "0            6044.333333   6040.5  \n",
       "1           22346.400000  15976.0  "
      ]
     },
     "execution_count": 8,
     "metadata": {},
     "output_type": "execute_result"
    }
   ],
   "source": [
    "bank.groupby('is_default').agg({'seniority':['mean','median'],'loan_sum':['mean','median'],'income':['mean','median'],'outcome':['mean','median']})     "
   ]
  },
  {
   "cell_type": "code",
   "execution_count": 9,
   "id": "8164a356-6a2c-4de1-8f46-af5a36d8c860",
   "metadata": {},
   "outputs": [
    {
     "data": {
      "text/html": [
       "<div>\n",
       "<style scoped>\n",
       "    .dataframe tbody tr th:only-of-type {\n",
       "        vertical-align: middle;\n",
       "    }\n",
       "\n",
       "    .dataframe tbody tr th {\n",
       "        vertical-align: top;\n",
       "    }\n",
       "\n",
       "    .dataframe thead tr th {\n",
       "        text-align: left;\n",
       "    }\n",
       "\n",
       "    .dataframe thead tr:last-of-type th {\n",
       "        text-align: right;\n",
       "    }\n",
       "</style>\n",
       "<table border=\"1\" class=\"dataframe\">\n",
       "  <thead>\n",
       "    <tr>\n",
       "      <th></th>\n",
       "      <th></th>\n",
       "      <th colspan=\"2\" halign=\"left\">seniority</th>\n",
       "      <th colspan=\"2\" halign=\"left\">loan_sum</th>\n",
       "      <th colspan=\"2\" halign=\"left\">income</th>\n",
       "      <th colspan=\"2\" halign=\"left\">outcome</th>\n",
       "    </tr>\n",
       "    <tr>\n",
       "      <th></th>\n",
       "      <th></th>\n",
       "      <th>mean</th>\n",
       "      <th>median</th>\n",
       "      <th>mean</th>\n",
       "      <th>median</th>\n",
       "      <th>mean</th>\n",
       "      <th>median</th>\n",
       "      <th>mean</th>\n",
       "      <th>median</th>\n",
       "    </tr>\n",
       "    <tr>\n",
       "      <th>is_default</th>\n",
       "      <th>region</th>\n",
       "      <th></th>\n",
       "      <th></th>\n",
       "      <th></th>\n",
       "      <th></th>\n",
       "      <th></th>\n",
       "      <th></th>\n",
       "      <th></th>\n",
       "      <th></th>\n",
       "    </tr>\n",
       "  </thead>\n",
       "  <tbody>\n",
       "    <tr>\n",
       "      <th rowspan=\"3\" valign=\"top\">0</th>\n",
       "      <th>Central</th>\n",
       "      <td>8.866000</td>\n",
       "      <td>6.645</td>\n",
       "      <td>19891.000000</td>\n",
       "      <td>21945.5</td>\n",
       "      <td>25810.800000</td>\n",
       "      <td>25969.5</td>\n",
       "      <td>6673.900000</td>\n",
       "      <td>6118.0</td>\n",
       "    </tr>\n",
       "    <tr>\n",
       "      <th>North</th>\n",
       "      <td>7.190909</td>\n",
       "      <td>5.140</td>\n",
       "      <td>23520.818182</td>\n",
       "      <td>22511.0</td>\n",
       "      <td>24864.454545</td>\n",
       "      <td>24849.0</td>\n",
       "      <td>6112.000000</td>\n",
       "      <td>8590.0</td>\n",
       "    </tr>\n",
       "    <tr>\n",
       "      <th>South</th>\n",
       "      <td>10.441111</td>\n",
       "      <td>10.210</td>\n",
       "      <td>15544.222222</td>\n",
       "      <td>13398.0</td>\n",
       "      <td>25086.555556</td>\n",
       "      <td>24575.0</td>\n",
       "      <td>5262.111111</td>\n",
       "      <td>5782.0</td>\n",
       "    </tr>\n",
       "    <tr>\n",
       "      <th rowspan=\"3\" valign=\"top\">1</th>\n",
       "      <th>Central</th>\n",
       "      <td>4.872500</td>\n",
       "      <td>3.580</td>\n",
       "      <td>4800.625000</td>\n",
       "      <td>3726.0</td>\n",
       "      <td>27749.375000</td>\n",
       "      <td>26974.0</td>\n",
       "      <td>26417.000000</td>\n",
       "      <td>24578.0</td>\n",
       "    </tr>\n",
       "    <tr>\n",
       "      <th>North</th>\n",
       "      <td>3.860000</td>\n",
       "      <td>3.860</td>\n",
       "      <td>1967.000000</td>\n",
       "      <td>1967.0</td>\n",
       "      <td>14217.000000</td>\n",
       "      <td>14217.0</td>\n",
       "      <td>11266.000000</td>\n",
       "      <td>11266.0</td>\n",
       "    </tr>\n",
       "    <tr>\n",
       "      <th>South</th>\n",
       "      <td>7.650000</td>\n",
       "      <td>7.650</td>\n",
       "      <td>5611.000000</td>\n",
       "      <td>5611.0</td>\n",
       "      <td>44544.000000</td>\n",
       "      <td>44544.0</td>\n",
       "      <td>862.000000</td>\n",
       "      <td>862.0</td>\n",
       "    </tr>\n",
       "  </tbody>\n",
       "</table>\n",
       "</div>"
      ],
      "text/plain": [
       "                    seniority              loan_sum                 income  \\\n",
       "                         mean  median          mean   median          mean   \n",
       "is_default region                                                            \n",
       "0          Central   8.866000   6.645  19891.000000  21945.5  25810.800000   \n",
       "           North     7.190909   5.140  23520.818182  22511.0  24864.454545   \n",
       "           South    10.441111  10.210  15544.222222  13398.0  25086.555556   \n",
       "1          Central   4.872500   3.580   4800.625000   3726.0  27749.375000   \n",
       "           North     3.860000   3.860   1967.000000   1967.0  14217.000000   \n",
       "           South     7.650000   7.650   5611.000000   5611.0  44544.000000   \n",
       "\n",
       "                                  outcome           \n",
       "                     median          mean   median  \n",
       "is_default region                                   \n",
       "0          Central  25969.5   6673.900000   6118.0  \n",
       "           North    24849.0   6112.000000   8590.0  \n",
       "           South    24575.0   5262.111111   5782.0  \n",
       "1          Central  26974.0  26417.000000  24578.0  \n",
       "           North    14217.0  11266.000000  11266.0  \n",
       "           South    44544.0    862.000000    862.0  "
      ]
     },
     "execution_count": 9,
     "metadata": {},
     "output_type": "execute_result"
    }
   ],
   "source": [
    "bank.groupby(['is_default','region']).agg({'seniority':['mean','median'],'loan_sum':['mean','median'],'income':['mean','median'],'outcome':['mean','median']})     "
   ]
  },
  {
   "cell_type": "code",
   "execution_count": 10,
   "id": "c1fc14b0-795a-497f-839a-131e3a8a5930",
   "metadata": {},
   "outputs": [
    {
     "data": {
      "text/html": [
       "<div>\n",
       "<style scoped>\n",
       "    .dataframe tbody tr th:only-of-type {\n",
       "        vertical-align: middle;\n",
       "    }\n",
       "\n",
       "    .dataframe tbody tr th {\n",
       "        vertical-align: top;\n",
       "    }\n",
       "\n",
       "    .dataframe thead th {\n",
       "        text-align: right;\n",
       "    }\n",
       "</style>\n",
       "<table border=\"1\" class=\"dataframe\">\n",
       "  <thead>\n",
       "    <tr style=\"text-align: right;\">\n",
       "      <th></th>\n",
       "      <th>is_default</th>\n",
       "    </tr>\n",
       "    <tr>\n",
       "      <th>region</th>\n",
       "      <th></th>\n",
       "    </tr>\n",
       "  </thead>\n",
       "  <tbody>\n",
       "    <tr>\n",
       "      <th>Central</th>\n",
       "      <td>0.444444</td>\n",
       "    </tr>\n",
       "    <tr>\n",
       "      <th>North</th>\n",
       "      <td>0.083333</td>\n",
       "    </tr>\n",
       "    <tr>\n",
       "      <th>South</th>\n",
       "      <td>0.100000</td>\n",
       "    </tr>\n",
       "  </tbody>\n",
       "</table>\n",
       "</div>"
      ],
      "text/plain": [
       "         is_default\n",
       "region             \n",
       "Central    0.444444\n",
       "North      0.083333\n",
       "South      0.100000"
      ]
     },
     "execution_count": 10,
     "metadata": {},
     "output_type": "execute_result"
    }
   ],
   "source": [
    "bank.groupby(['region']).agg({'is_default':'mean'})"
   ]
  },
  {
   "cell_type": "code",
   "execution_count": 11,
   "id": "4e4c512e-5a74-4a00-b698-23e801b75d91",
   "metadata": {},
   "outputs": [
    {
     "data": {
      "text/plain": [
       "<AxesSubplot:>"
      ]
     },
     "execution_count": 11,
     "metadata": {},
     "output_type": "execute_result"
    },
    {
     "data": {
      "image/png": "[encoded data removed]",
      "text/plain": [
       "<Figure size 432x288 with 1 Axes>"
      ]
     },
     "metadata": {
      "needs_background": "light"
     },
     "output_type": "display_data"
    }
   ],
   "source": [
    "bank.corr()['is_default'].drop('is_default').plot(kind='barh')"
   ]
  },
  {
   "cell_type": "code",
   "execution_count": 12,
   "id": "cb17992e-8a05-4c5a-b078-3fbaecb6081b",
   "metadata": {
    "tags": []
   },
   "outputs": [
    {
     "data": {
      "text/html": [
       "<div>\n",
       "<style scoped>\n",
       "    .dataframe tbody tr th:only-of-type {\n",
       "        vertical-align: middle;\n",
       "    }\n",
       "\n",
       "    .dataframe tbody tr th {\n",
       "        vertical-align: top;\n",
       "    }\n",
       "\n",
       "    .dataframe thead th {\n",
       "        text-align: right;\n",
       "    }\n",
       "</style>\n",
       "<table border=\"1\" class=\"dataframe\">\n",
       "  <thead>\n",
       "    <tr style=\"text-align: right;\">\n",
       "      <th></th>\n",
       "      <th>is_default</th>\n",
       "      <th>seniority</th>\n",
       "      <th>region</th>\n",
       "      <th>loan_sum</th>\n",
       "      <th>income</th>\n",
       "      <th>outcome</th>\n",
       "      <th>seniority_Group</th>\n",
       "    </tr>\n",
       "  </thead>\n",
       "  <tbody>\n",
       "    <tr>\n",
       "      <th>0</th>\n",
       "      <td>0</td>\n",
       "      <td>0.37</td>\n",
       "      <td>South</td>\n",
       "      <td>36974</td>\n",
       "      <td>26010</td>\n",
       "      <td>29</td>\n",
       "      <td>0-5</td>\n",
       "    </tr>\n",
       "    <tr>\n",
       "      <th>1</th>\n",
       "      <td>0</td>\n",
       "      <td>14.73</td>\n",
       "      <td>Central</td>\n",
       "      <td>20453</td>\n",
       "      <td>25036</td>\n",
       "      <td>4763</td>\n",
       "      <td>11-15</td>\n",
       "    </tr>\n",
       "    <tr>\n",
       "      <th>2</th>\n",
       "      <td>0</td>\n",
       "      <td>12.19</td>\n",
       "      <td>North</td>\n",
       "      <td>39215</td>\n",
       "      <td>28832</td>\n",
       "      <td>8590</td>\n",
       "      <td>11-15</td>\n",
       "    </tr>\n",
       "  </tbody>\n",
       "</table>\n",
       "</div>"
      ],
      "text/plain": [
       "   is_default  seniority   region  loan_sum  income  outcome seniority_Group\n",
       "0           0       0.37    South     36974   26010       29             0-5\n",
       "1           0      14.73  Central     20453   25036     4763           11-15\n",
       "2           0      12.19    North     39215   28832     8590           11-15"
      ]
     },
     "execution_count": 12,
     "metadata": {},
     "output_type": "execute_result"
    }
   ],
   "source": [
    "bank['seniority_Group'] = None\n",
    "bank['seniority_Group'] = bank['seniority_Group'].astype(str)\n",
    "bank.loc[(bank['seniority'] < 6 ),'seniority_Group'] = '0-5'\n",
    "bank.loc[(bank['seniority'] >= 6) & (bank['seniority'] <11) ,'seniority_Group'] = '6-10'\n",
    "bank.loc[(bank['seniority'] >= 11) & (bank['seniority'] <16) ,'seniority_Group'] = '11-15'    \n",
    "bank.loc[(bank['seniority'] >= 16),'seniority_Group'] = '16+'\n",
    "bank.loc[(bank['seniority'].isnull() ),'seniority_Group'] = 'No seniority'\n",
    "bank.head(3)\n",
    "\n"
   ]
  },
  {
   "cell_type": "code",
   "execution_count": 13,
   "id": "1276261b-d102-44e3-8ea1-8050d6fb895f",
   "metadata": {
    "tags": []
   },
   "outputs": [
    {
     "data": {
      "text/html": [
       "<div>\n",
       "<style scoped>\n",
       "    .dataframe tbody tr th:only-of-type {\n",
       "        vertical-align: middle;\n",
       "    }\n",
       "\n",
       "    .dataframe tbody tr th {\n",
       "        vertical-align: top;\n",
       "    }\n",
       "\n",
       "    .dataframe thead tr th {\n",
       "        text-align: left;\n",
       "    }\n",
       "\n",
       "    .dataframe thead tr:last-of-type th {\n",
       "        text-align: right;\n",
       "    }\n",
       "</style>\n",
       "<table border=\"1\" class=\"dataframe\">\n",
       "  <thead>\n",
       "    <tr>\n",
       "      <th></th>\n",
       "      <th colspan=\"2\" halign=\"left\">is_default</th>\n",
       "    </tr>\n",
       "    <tr>\n",
       "      <th></th>\n",
       "      <th>mean</th>\n",
       "      <th>count</th>\n",
       "    </tr>\n",
       "    <tr>\n",
       "      <th>seniority_Group</th>\n",
       "      <th></th>\n",
       "      <th></th>\n",
       "    </tr>\n",
       "  </thead>\n",
       "  <tbody>\n",
       "    <tr>\n",
       "      <th>0-5</th>\n",
       "      <td>0.333333</td>\n",
       "      <td>21</td>\n",
       "    </tr>\n",
       "    <tr>\n",
       "      <th>6-10</th>\n",
       "      <td>0.222222</td>\n",
       "      <td>9</td>\n",
       "    </tr>\n",
       "    <tr>\n",
       "      <th>11-15</th>\n",
       "      <td>0.166667</td>\n",
       "      <td>6</td>\n",
       "    </tr>\n",
       "    <tr>\n",
       "      <th>15+</th>\n",
       "      <td>NaN</td>\n",
       "      <td>0</td>\n",
       "    </tr>\n",
       "  </tbody>\n",
       "</table>\n",
       "</div>"
      ],
      "text/plain": [
       "                is_default      \n",
       "                      mean count\n",
       "seniority_Group                 \n",
       "0-5               0.333333    21\n",
       "6-10              0.222222     9\n",
       "11-15             0.166667     6\n",
       "15+                    NaN     0"
      ]
     },
     "execution_count": 13,
     "metadata": {},
     "output_type": "execute_result"
    }
   ],
   "source": [
    "custom_order = ['0-5','6-10','11-15','15+']\n",
    "bank['seniority_Group'] = pd.Categorical(bank['seniority_Group'], categories=custom_order, ordered=True)\n",
    "bank.groupby('seniority_Group').agg({'is_default':['mean','count']})"
   ]
  },
  {
   "cell_type": "code",
   "execution_count": 14,
   "id": "7b13385e-a042-4e58-aa49-0eb7dc051ebe",
   "metadata": {},
   "outputs": [
    {
     "data": {
      "text/plain": [
       "<seaborn.axisgrid.FacetGrid at 0x1a53cefd9a0>"
      ]
     },
     "execution_count": 14,
     "metadata": {},
     "output_type": "execute_result"
    },
    {
     "data": {
      "image/png": "[encoded data removed]",
      "text/plain": [
       "<Figure size 416.5x360 with 1 Axes>"
      ]
     },
     "metadata": {
      "needs_background": "light"
     },
     "output_type": "display_data"
    }
   ],
   "source": [
    "sns.relplot(\n",
    "    data= bank,\n",
    "    x=\"seniority\", y=\"income\",col=None,\n",
    "    hue=\"is_default\", style=\"is_default\",\n",
    "    sizes=0\n",
    "    \n",
    ")\n",
    "\n"
   ]
  },
  {
   "cell_type": "code",
   "execution_count": 20,
   "id": "892c3701-e0c6-4728-9f76-a8edb54811a1",
   "metadata": {},
   "outputs": [
    {
     "data": {
      "text/html": [
       "<div>\n",
       "<style scoped>\n",
       "    .dataframe tbody tr th:only-of-type {\n",
       "        vertical-align: middle;\n",
       "    }\n",
       "\n",
       "    .dataframe tbody tr th {\n",
       "        vertical-align: top;\n",
       "    }\n",
       "\n",
       "    .dataframe thead th {\n",
       "        text-align: right;\n",
       "    }\n",
       "</style>\n",
       "<table border=\"1\" class=\"dataframe\">\n",
       "  <thead>\n",
       "    <tr style=\"text-align: right;\">\n",
       "      <th></th>\n",
       "      <th>loan_sum</th>\n",
       "    </tr>\n",
       "    <tr>\n",
       "      <th>region</th>\n",
       "      <th></th>\n",
       "    </tr>\n",
       "  </thead>\n",
       "  <tbody>\n",
       "    <tr>\n",
       "      <th>Central</th>\n",
       "      <td>237315</td>\n",
       "    </tr>\n",
       "    <tr>\n",
       "      <th>North</th>\n",
       "      <td>260696</td>\n",
       "    </tr>\n",
       "    <tr>\n",
       "      <th>South</th>\n",
       "      <td>145509</td>\n",
       "    </tr>\n",
       "  </tbody>\n",
       "</table>\n",
       "</div>"
      ],
      "text/plain": [
       "         loan_sum\n",
       "region           \n",
       "Central    237315\n",
       "North      260696\n",
       "South      145509"
      ]
     },
     "execution_count": 20,
     "metadata": {},
     "output_type": "execute_result"
    }
   ],
   "source": [
    "bank.groupby('region').agg({'loan_sum': 'sum'})"
   ]
  },
  {
   "cell_type": "code",
   "execution_count": 27,
   "id": "068403b1-1ee6-4d70-9a8f-09a627c9bff9",
   "metadata": {},
   "outputs": [
    {
     "data": {
      "image/png": "[encoded data removed]",
      "text/plain": [
       "<Figure size 432x288 with 1 Axes>"
      ]
     },
     "metadata": {},
     "output_type": "display_data"
    }
   ],
   "source": [
    "grouped_data = bank.groupby('region').agg({'is_default': 'sum'})\n",
    "\n",
    "plt.pie(grouped_data['is_default'], labels=grouped_data.index, autopct='%1.1f%%')\n",
    "plt.axis('equal')\n",
    "plt.title('default by Region')\n",
    "plt.show()"
   ]
  },
  {
   "cell_type": "code",
   "execution_count": 30,
   "id": "09f22e3b-cb18-49d4-8ad5-15df78a3b20d",
   "metadata": {},
   "outputs": [
    {
     "data": {
      "image/png": "[encoded data removed]",
      "text/plain": [
       "<Figure size 432x288 with 1 Axes>"
      ]
     },
     "metadata": {},
     "output_type": "display_data"
    }
   ],
   "source": [
    "grouped_data = bank.groupby('region').agg({'loan_sum': 'sum'})\n",
    "plt.pie(grouped_data['loan_sum'], labels=grouped_data.index, autopct='%1.1f%%')\n",
    "plt.axis('equal')\n",
    "plt.title('percentage of total credit amount by Region')\n",
    "plt.show()\n"
   ]
  },
  {
   "cell_type": "code",
   "execution_count": 32,
   "id": "a18b6915-3382-4442-a05d-1b24b5696333",
   "metadata": {},
   "outputs": [
    {
     "data": {
      "image/png": "[encoded data removed]",
      "text/plain": [
       "<Figure size 432x288 with 1 Axes>"
      ]
     },
     "metadata": {
      "needs_background": "light"
     },
     "output_type": "display_data"
    }
   ],
   "source": [
    "grouped_data = bank.groupby('region').agg({'is_default': 'mean'})\n",
    "\n",
    "plt.bar(grouped_data.index, grouped_data['is_default'])\n",
    "plt.xlabel('Region')\n",
    "plt.ylabel('Default Rate')\n",
    "plt.title('Default Rate by Region')\n",
    "plt.show()"
   ]
  },
  {
   "cell_type": "code",
   "execution_count": 35,
   "id": "afab398a-fbb1-43a4-aca1-21af8497f5f3",
   "metadata": {},
   "outputs": [
    {
     "data": {
      "image/png": "[encoded data removed]",
      "text/plain": [
       "<Figure size 432x288 with 1 Axes>"
      ]
     },
     "metadata": {
      "needs_background": "light"
     },
     "output_type": "display_data"
    }
   ],
   "source": [
    "grouped_data = bank.groupby('region').agg({'loan_sum': 'count'})\n",
    "plt.bar(grouped_data.index, grouped_data['loan_sum'])\n",
    "plt.xlabel('Region')\n",
    "plt.ylabel('customer')\n",
    "plt.title('customer amount by Region')\n",
    "plt.show()"
   ]
  },
  {
   "cell_type": "code",
   "execution_count": 19,
   "id": "1f1fee50-ff5f-496a-b25b-54e4f2523fa2",
   "metadata": {},
   "outputs": [
    {
     "data": {
      "text/html": [
       "<div>\n",
       "<style scoped>\n",
       "    .dataframe tbody tr th:only-of-type {\n",
       "        vertical-align: middle;\n",
       "    }\n",
       "\n",
       "    .dataframe tbody tr th {\n",
       "        vertical-align: top;\n",
       "    }\n",
       "\n",
       "    .dataframe thead th {\n",
       "        text-align: right;\n",
       "    }\n",
       "</style>\n",
       "<table border=\"1\" class=\"dataframe\">\n",
       "  <thead>\n",
       "    <tr style=\"text-align: right;\">\n",
       "      <th></th>\n",
       "      <th>loan_sum</th>\n",
       "    </tr>\n",
       "    <tr>\n",
       "      <th>seniority_Group</th>\n",
       "      <th></th>\n",
       "    </tr>\n",
       "  </thead>\n",
       "  <tbody>\n",
       "    <tr>\n",
       "      <th>0-5</th>\n",
       "      <td>305169</td>\n",
       "    </tr>\n",
       "    <tr>\n",
       "      <th>6-10</th>\n",
       "      <td>177464</td>\n",
       "    </tr>\n",
       "    <tr>\n",
       "      <th>11-15</th>\n",
       "      <td>111973</td>\n",
       "    </tr>\n",
       "    <tr>\n",
       "      <th>15+</th>\n",
       "      <td>0</td>\n",
       "    </tr>\n",
       "  </tbody>\n",
       "</table>\n",
       "</div>"
      ],
      "text/plain": [
       "                 loan_sum\n",
       "seniority_Group          \n",
       "0-5                305169\n",
       "6-10               177464\n",
       "11-15              111973\n",
       "15+                     0"
      ]
     },
     "execution_count": 19,
     "metadata": {},
     "output_type": "execute_result"
    }
   ],
   "source": [
    "bank.groupby('seniority_Group').agg({'loan_sum': 'sum'})"
   ]
  },
  {
   "cell_type": "code",
   "execution_count": 18,
   "id": "1731beda-f2a4-4033-90c9-5b22a23fa497",
   "metadata": {},
   "outputs": [
    {
     "data": {
      "image/png": "[encoded data removed]",
      "text/plain": [
       "<Figure size 432x288 with 1 Axes>"
      ]
     },
     "metadata": {
      "needs_background": "light"
     },
     "output_type": "display_data"
    }
   ],
   "source": [
    "\n",
    "# Group and aggregate loan_sum by seniority_Group\n",
    "grouped_data = bank.groupby('seniority_Group').agg({'loan_sum': 'sum'})\n",
    "\n",
    "# Create the bar chart\n",
    "grouped_data.plot(kind='bar')\n",
    "\n",
    "# Customize the chart\n",
    "plt.xlabel('Seniority Group')\n",
    "plt.ylabel('Loan Sum')\n",
    "plt.title('Sum Amount of Loan by Seniority Groups')\n",
    "\n",
    "# Display the chart\n",
    "plt.show()"
   ]
  },
  {
   "cell_type": "code",
   "execution_count": 17,
   "id": "c3931155-d47c-4dc9-a35c-4ab33c00e6d5",
   "metadata": {},
   "outputs": [
    {
     "data": {
      "text/plain": [
       "Text(0.5, 1.0, 'default rate by Seniority Groups')"
      ]
     },
     "execution_count": 17,
     "metadata": {},
     "output_type": "execute_result"
    },
    {
     "data": {
      "image/png": "[encoded data removed]",
      "text/plain": [
       "<Figure size 432x288 with 1 Axes>"
      ]
     },
     "metadata": {
      "needs_background": "light"
     },
     "output_type": "display_data"
    }
   ],
   "source": [
    "grouped_data = bank.groupby('seniority_Group').agg({'is_default': 'mean'})\n",
    "# Create the bar chart\n",
    "plt.bar(grouped_data.index, grouped_data['is_default'])\n",
    "\n",
    "# Customize the chart\n",
    "plt.xlabel('Seniority Group')\n",
    "plt.ylabel('default rate ')\n",
    "plt.title('default rate by Seniority Groups')\n"
   ]
  },
  {
   "cell_type": "code",
   "execution_count": 40,
   "id": "5fd8166b-f5cb-4973-9eb4-ff632b6f8717",
   "metadata": {
    "tags": []
   },
   "outputs": [
    {
     "data": {
      "image/png": "[encoded data removed]",
      "text/plain": [
       "<Figure size 420.175x360 with 1 Axes>"
      ]
     },
     "metadata": {},
     "output_type": "display_data"
    }
   ],
   "source": [
    "sns.set(style=\"whitegrid\")\n",
    "\n",
    "sns.relplot(\n",
    "    data=bank,\n",
    "    x=\"loan_sum\", y=\"outcome\", col=None,\n",
    "    hue=\"is_default\", style=\"is_default\",\n",
    "    sizes=0\n",
    ")\n",
    "\n",
    "plt.grid(True)  # Add grid lines\n",
    "plt.show()"
   ]
  },
  {
   "cell_type": "code",
   "execution_count": 43,
   "id": "bc46fd26-be5f-4656-8ef5-74500031f4a6",
   "metadata": {
    "tags": []
   },
   "outputs": [
    {
     "data": {
      "text/html": [
       "<div>\n",
       "<style scoped>\n",
       "    .dataframe tbody tr th:only-of-type {\n",
       "        vertical-align: middle;\n",
       "    }\n",
       "\n",
       "    .dataframe tbody tr th {\n",
       "        vertical-align: top;\n",
       "    }\n",
       "\n",
       "    .dataframe thead th {\n",
       "        text-align: right;\n",
       "    }\n",
       "</style>\n",
       "<table border=\"1\" class=\"dataframe\">\n",
       "  <thead>\n",
       "    <tr style=\"text-align: right;\">\n",
       "      <th></th>\n",
       "      <th>is_default</th>\n",
       "      <th>seniority</th>\n",
       "      <th>region</th>\n",
       "      <th>loan_sum</th>\n",
       "      <th>income</th>\n",
       "      <th>outcome</th>\n",
       "      <th>seniority_Group</th>\n",
       "      <th>income_Group</th>\n",
       "    </tr>\n",
       "  </thead>\n",
       "  <tbody>\n",
       "    <tr>\n",
       "      <th>0</th>\n",
       "      <td>0</td>\n",
       "      <td>0.37</td>\n",
       "      <td>South</td>\n",
       "      <td>36974</td>\n",
       "      <td>26010</td>\n",
       "      <td>29</td>\n",
       "      <td>0-5</td>\n",
       "      <td>20k-30k</td>\n",
       "    </tr>\n",
       "    <tr>\n",
       "      <th>1</th>\n",
       "      <td>0</td>\n",
       "      <td>14.73</td>\n",
       "      <td>Central</td>\n",
       "      <td>20453</td>\n",
       "      <td>25036</td>\n",
       "      <td>4763</td>\n",
       "      <td>11-15</td>\n",
       "      <td>20k-30k</td>\n",
       "    </tr>\n",
       "    <tr>\n",
       "      <th>2</th>\n",
       "      <td>0</td>\n",
       "      <td>12.19</td>\n",
       "      <td>North</td>\n",
       "      <td>39215</td>\n",
       "      <td>28832</td>\n",
       "      <td>8590</td>\n",
       "      <td>11-15</td>\n",
       "      <td>20k-30k</td>\n",
       "    </tr>\n",
       "  </tbody>\n",
       "</table>\n",
       "</div>"
      ],
      "text/plain": [
       "   is_default  seniority   region  loan_sum  income  outcome seniority_Group  \\\n",
       "0           0       0.37    South     36974   26010       29             0-5   \n",
       "1           0      14.73  Central     20453   25036     4763           11-15   \n",
       "2           0      12.19    North     39215   28832     8590           11-15   \n",
       "\n",
       "  income_Group  \n",
       "0      20k-30k  \n",
       "1      20k-30k  \n",
       "2      20k-30k  "
      ]
     },
     "execution_count": 43,
     "metadata": {},
     "output_type": "execute_result"
    }
   ],
   "source": [
    "bank['income_Group'] = None\n",
    "bank['income_Group'] = bank['income_Group'].astype(str)\n",
    "bank.loc[(bank['income'] < 10000), 'income_Group'] = '0-10k'\n",
    "bank.loc[(bank['income'] >= 10000) & (bank['income'] < 20000), 'income_Group'] = '10k-20k'\n",
    "bank.loc[(bank['income'] >= 20000) & (bank['income'] < 30000), 'income_Group'] = '20k-30k'    \n",
    "bank.loc[(bank['income'] >= 30000) & (bank['income'] < 40000), 'income_Group'] = '30k-40k'\n",
    "bank.loc[(bank['income'] >= 40000), 'income_Group'] = '40k+'\n",
    "bank.loc[(bank['income'].isnull()), 'income_Group'] = 'No income'\n",
    "\n",
    "bank.head(3)"
   ]
  },
  {
   "cell_type": "code",
   "execution_count": 52,
   "id": "4765387a-60f1-4e86-bc22-a36a66a1fcee",
   "metadata": {},
   "outputs": [
    {
     "data": {
      "text/plain": [
       "Text(0.5, 1.0, 'sum default by income Groups')"
      ]
     },
     "execution_count": 52,
     "metadata": {},
     "output_type": "execute_result"
    },
    {
     "data": {
      "image/png": "[encoded data removed]",
      "text/plain": [
       "<Figure size 432x288 with 1 Axes>"
      ]
     },
     "metadata": {},
     "output_type": "display_data"
    }
   ],
   "source": [
    "grouped_data = bank.groupby('income_Group').agg({'is_default': 'sum'})\n",
    "# Create the bar chart\n",
    "plt.bar(grouped_data.index, grouped_data['is_default'])\n",
    "\n",
    "# Customize the chart\n",
    "plt.xlabel('income Group')\n",
    "plt.ylabel('sum default ')\n",
    "plt.title('sum default by income Groups')"
   ]
  },
  {
   "cell_type": "code",
   "execution_count": 58,
   "id": "ed8259bc-f1ab-47fd-a1e3-533dfcaed946",
   "metadata": {},
   "outputs": [
    {
     "data": {
      "text/plain": [
       "Text(0.5, 1.0, 'number of customer by income Groups')"
      ]
     },
     "execution_count": 58,
     "metadata": {},
     "output_type": "execute_result"
    },
    {
     "data": {
      "image/png": "[encoded data removed]",
      "text/plain": [
       "<Figure size 432x288 with 1 Axes>"
      ]
     },
     "metadata": {},
     "output_type": "display_data"
    }
   ],
   "source": [
    "grouped_data = bank.groupby('income_Group').agg({'is_default': 'count'})\n",
    "# Create the bar chart\n",
    "plt.bar(grouped_data.index, grouped_data['is_default'])\n",
    "\n",
    "# Customize the chart\n",
    "plt.xlabel('income Group')\n",
    "plt.ylabel('sum customer')\n",
    "plt.title('number of customer by income Groups')"
   ]
  },
  {
   "cell_type": "code",
   "execution_count": 49,
   "id": "5aacf6d4-4ca8-46e8-a89b-2490eaacdc73",
   "metadata": {},
   "outputs": [
    {
     "data": {
      "text/html": [
       "<div>\n",
       "<style scoped>\n",
       "    .dataframe tbody tr th:only-of-type {\n",
       "        vertical-align: middle;\n",
       "    }\n",
       "\n",
       "    .dataframe tbody tr th {\n",
       "        vertical-align: top;\n",
       "    }\n",
       "\n",
       "    .dataframe thead tr th {\n",
       "        text-align: left;\n",
       "    }\n",
       "\n",
       "    .dataframe thead tr:last-of-type th {\n",
       "        text-align: right;\n",
       "    }\n",
       "</style>\n",
       "<table border=\"1\" class=\"dataframe\">\n",
       "  <thead>\n",
       "    <tr>\n",
       "      <th></th>\n",
       "      <th colspan=\"2\" halign=\"left\">is_default</th>\n",
       "    </tr>\n",
       "    <tr>\n",
       "      <th></th>\n",
       "      <th>sum</th>\n",
       "      <th>count</th>\n",
       "    </tr>\n",
       "    <tr>\n",
       "      <th>income_Group</th>\n",
       "      <th></th>\n",
       "      <th></th>\n",
       "    </tr>\n",
       "  </thead>\n",
       "  <tbody>\n",
       "    <tr>\n",
       "      <th>0-10k</th>\n",
       "      <td>1</td>\n",
       "      <td>1</td>\n",
       "    </tr>\n",
       "    <tr>\n",
       "      <th>10k-20k</th>\n",
       "      <td>3</td>\n",
       "      <td>3</td>\n",
       "    </tr>\n",
       "    <tr>\n",
       "      <th>20k-30k</th>\n",
       "      <td>2</td>\n",
       "      <td>32</td>\n",
       "    </tr>\n",
       "    <tr>\n",
       "      <th>30k-40k</th>\n",
       "      <td>1</td>\n",
       "      <td>1</td>\n",
       "    </tr>\n",
       "    <tr>\n",
       "      <th>40k+</th>\n",
       "      <td>3</td>\n",
       "      <td>3</td>\n",
       "    </tr>\n",
       "  </tbody>\n",
       "</table>\n",
       "</div>"
      ],
      "text/plain": [
       "             is_default      \n",
       "                    sum count\n",
       "income_Group                 \n",
       "0-10k                 1     1\n",
       "10k-20k               3     3\n",
       "20k-30k               2    32\n",
       "30k-40k               1     1\n",
       "40k+                  3     3"
      ]
     },
     "execution_count": 49,
     "metadata": {},
     "output_type": "execute_result"
    }
   ],
   "source": [
    "bank.groupby('income_Group').agg({'is_default': ['sum','count']})"
   ]
  },
  {
   "cell_type": "code",
   "execution_count": null,
   "id": "b67198e6-a8d4-49fc-9013-a392102c31ad",
   "metadata": {},
   "outputs": [
    {
     "data": {
      "text/plain": [
       "Text(0.5, 1.0, 'default rate by income Groups')"
      ]
     },
     "execution_count": 57,
     "metadata": {},
     "output_type": "execute_result"
    },
    {
     "data": {
      "image/png": "[encoded data removed]",
      "text/plain": [
       "<Figure size 432x288 with 1 Axes>"
      ]
     },
     "metadata": {},
     "output_type": "display_data"
    }
   ],
   "source": [
    "grouped_data = bank.groupby('income_Group').agg({'is_default': 'mean'})\n",
    "# Create the bar chart\n",
    "plt.bar(grouped_data.index, grouped_data['is_default'])\n",
    "\n",
    "# Customize the chart\n",
    "plt.xlabel('income Group')\n",
    "plt.ylabel('default rate customer')\n",
    "plt.title('default rat by income Groups')"
   ]
  }
 ],
 "metadata": {
  "kernelspec": {
   "display_name": "Python 3 (ipykernel)",
   "language": "python",
   "name": "python3"
  },
  "language_info": {
   "codemirror_mode": {
    "name": "ipython",
    "version": 3
   },
   "file_extension": ".py",
   "mimetype": "text/x-python",
   "name": "python",
   "nbconvert_exporter": "python",
   "pygments_lexer": "ipython3",
   "version": "3.9.12"
  }
 },
 "nbformat": 4,
 "nbformat_minor": 5
}
